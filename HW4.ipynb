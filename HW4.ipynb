{
 "cells": [
  {
   "cell_type": "code",
   "execution_count": 1,
   "metadata": {},
   "outputs": [],
   "source": [
    "import numpy as np\n",
    "import math\n",
    "import matplotlib.pyplot as plt\n",
    "import seaborn\n",
    "import random\n",
    "import importlib\n",
    "resources = importlib.import_module(\"resources\")\n",
    "import resources.finiteMDP as fmdp\n",
    "import resources.infMDP as imdp\n",
    "from itertools import product\n",
    "random.seed(2018)\n",
    "\n",
    "%matplotlib inline\n",
    "\n"
   ]
  },
  {
   "cell_type": "code",
   "execution_count": 5,
   "metadata": {},
   "outputs": [
    {
     "data": {
      "text/plain": [
       "<matplotlib.collections.PolyCollection at 0x22e2cceb358>"
      ]
     },
     "execution_count": 5,
     "metadata": {},
     "output_type": "execute_result"
    },
    {
     "data": {
      "image/png": "[encoded data removed]",
      "text/plain": [
       "<Figure size 432x288 with 1 Axes>"
      ]
     },
     "metadata": {
      "needs_background": "light"
     },
     "output_type": "display_data"
    }
   ],
   "source": [
    "# GridWorld\n",
    "\n",
    "states = list(range(22)) ; states.append('inf')\n",
    "actions = [\"AU\",\"AD\",\"AL\",\"AR\"]\n",
    "action_id = {\"AU\":0,\"AD\":1,\"AL\":2,\"AR\":3}\n",
    "action_dict= {\"AU\":[.8,0,.05,.05,.1],\n",
    "              \"AL\":[.05,.05,.8,0,.1],\n",
    "              \"AR\":[.05,.05,0,.8,.1],\n",
    "              \"AD\":[0,.8,.05,.05,.1]}\n",
    "                #   U D L R C\n",
    "transition_dict = {0:[0,5,0,1,0],\n",
    "                   1:[0,5,-1,1,0],\n",
    "                   2:[0,5,-1,1,0],\n",
    "                   3:[0,5,-1,1,0],\n",
    "                   4:[0,5,-1,0,0],\n",
    "                   5:[-5,5,0,1,0],\n",
    "                   6:[-5,5,-1,1,0],\n",
    "                   7:[-5,0,-1,1,0],\n",
    "                   8:[-5,4,-1,1,0],\n",
    "                   9:[-5,4,-1,0,0],\n",
    "                  10:[-5,4,0,1,0],\n",
    "                  11:[-5,4,-1,0,0],\n",
    "                  12:[-4,4,0,1,0],\n",
    "                  13:[-4,4,-1,0,0],\n",
    "                  14:[-4,4,0,1,0],\n",
    "                  15:[-4,4,-1,0,0],\n",
    "                  16:[-4,5,0,1,0],\n",
    "                  17:[-4,None,-1,0,0],\n",
    "                  18:[-4,0,0,1,0],\n",
    "                  19:[-4,0,-1,1,0],\n",
    "                  20:[0,0,-1,1,0],\n",
    "                  21:[-5,0,-1,None,0]}\n",
    "def transition_func(state,action):\n",
    "    direction = np.random.choice(list(range(5)),p = action_dict[action])\n",
    "    change = transition_dict[state][direction]\n",
    "    if change is None:\n",
    "        return 'inf'\n",
    "    else:\n",
    "        return state + change\n",
    "def reward_func(state,action,newstate):\n",
    "    if newstate ==20:\n",
    "        return -10\n",
    "    elif newstate == 'inf':\n",
    "        return 10\n",
    "    else:\n",
    "        return 0\n",
    "def policy_random(state,actions):\n",
    "    return random.choice(actions)\n",
    "myMDP = fmdp.MDP(states,actions,transition_func,reward_func,lambda : 0, .9, policy_random)\n",
    "\n",
    "episodes = 100\n",
    "repetitions = 100\n",
    "y = np.zeros((episodes,repetitions))\n",
    "j=0\n",
    "while j<repetitions:\n",
    "    i = 0\n",
    "    for G in fmdp.Sarsa_tabular(episodes,len(states)-1,len(actions),action_id,.1,myMDP,softmax = True):\n",
    "        y[i,j] = G\n",
    "        i+=1\n",
    "    j+=1\n",
    "\n",
    "std = np.std(y,axis = 1)\n",
    "mean = np.mean(y,axis = 1)\n",
    "\n",
    "plt.plot(range(1,101),np.mean(y,axis = 1))\n",
    "plt.fill_between(range(1,101), mean-std, mean+std,alpha  = .1)\n",
    "\n",
    "\n",
    "#alpha=  .1\n",
    "#V_pi = fmdp.TemporalDifference(100,alpha,myMDP)\n",
    "#print(fmdp.TestTD(100,alpha,myMDP,V_pi))\n",
    "\n"
   ]
  },
  {
   "cell_type": "code",
   "execution_count": 7,
   "metadata": {},
   "outputs": [
    {
     "data": {
      "text/plain": [
       "<matplotlib.collections.PolyCollection at 0x22e2ddec160>"
      ]
     },
     "execution_count": 7,
     "metadata": {},
     "output_type": "execute_result"
    },
    {
     "data": {
      "image/png": "[encoded data removed]",
      "text/plain": [
       "<Figure size 432x288 with 1 Axes>"
      ]
     },
     "metadata": {
      "needs_background": "light"
     },
     "output_type": "display_data"
    }
   ],
   "source": [
    "# CartPole\n",
    "\n",
    "actions = (\"L\",\"R\")\n",
    "action_id = {\"L\":0,\"R\":1}\n",
    "def policy_random(state,actions):\n",
    "    return random.choice(actions)\n",
    "\n",
    "\n",
    "max_angle = math.pi/2\n",
    "min_angle = -math.pi/2\n",
    "max_t = int(20.2/.02)\n",
    "max_x = 3\n",
    "min_x = -3\n",
    "def termination_func(state,time):\n",
    "    vel,pos,ang_vel,theta = state    \n",
    "    return (pos > max_x or pos<min_x or theta<min_angle or theta>max_angle or time >= max_t) \n",
    "def reward_func(state,action):\n",
    "    if termination_func(state,0):\n",
    "        return 0\n",
    "    else:\n",
    "        return 1\n",
    "    \n",
    "delta_t = .02\n",
    "m_p = .1\n",
    "m_c = 1\n",
    "mcp = m_c+m_p\n",
    "l = .5\n",
    "motor_force = 10 #in newtons\n",
    "g = 9.8\n",
    "\n",
    "def transition_func(state,action):\n",
    "    vel,pos,ang_vel,theta = state\n",
    "    sin = math.sin(theta)\n",
    "    cos = math.cos(theta)\n",
    "    if action == 'L':\n",
    "        F = -motor_force\n",
    "    else:\n",
    "        F = motor_force\n",
    "    x = (F + l*m_p*sin*(ang_vel**2))/mcp\n",
    "    ang_acc = (g*sin-cos*x)/(l*(4/3-m_p*cos**2/mcp))\n",
    "    acc = (F+m_p*l*(sin*ang_vel**2-ang_acc*cos))/mcp\n",
    "    #acc = x - l*m_p*ang_acc*cos/mcp\n",
    "\n",
    "    pos += vel*delta_t\n",
    "    theta += ang_vel*delta_t\n",
    "    vel += acc*delta_t\n",
    "    ang_vel += ang_acc*delta_t\n",
    "    return (vel,pos,ang_vel,theta)\n",
    "\n",
    "max_v = 10; min_v = -10\n",
    "max_a = np.pi ; min_a = -np.pi\n",
    "epsilon = .1\n",
    "wide_max_x = max_x+epsilon ; wide_min_x = min_x-epsilon\n",
    "wide_max_theta = max_angle+epsilon; wide_min_theta = min_angle-epsilon\n",
    "\n",
    "n = 6 # 5 or 3\n",
    "d = 4 \n",
    "basis_matrix = np.array(list(product(range(n+1),repeat = d)),dtype=np.float64)\n",
    "state_normalized = np.zeros(4,dtype=np.float64)\n",
    "def normalize_basis(state): # normalize to 0 , 1\n",
    "    global state_normalized\n",
    "    state_normalized[0] = (state[0]-min_v)/(max_v-min_v)    \n",
    "    state_normalized[1] = (state[1]-wide_min_x)/(wide_max_x-wide_min_x)\n",
    "    state_normalized[2] = (state[2]-min_a)/(max_a-min_a)    \n",
    "    state_normalized[3] = (state[3]-wide_min_theta)/(wide_max_theta-wide_min_theta)\n",
    "def normalize_basis_11(state): # normalize to -1 , 1\n",
    "    global state_normalized\n",
    "    state_normalized[0] = 2*(state[0]-min_v)/(max_v-min_v) -1\n",
    "    state_normalized[1] = 2*(state[1]-wide_min_x)/(wide_max_x-wide_min_x) -1\n",
    "    state_normalized[2] = 2*(state[2]-min_a)/(max_a-min_a) -1 \n",
    "    state_normalized[3] = 2*(state[3]-wide_min_theta)/(wide_max_theta-wide_min_theta) -1\n",
    "\n",
    "def fourier_basis(state):\n",
    "    normalize_basis(state)\n",
    "    return np.cos(np.pi*np.dot(basis_matrix,state_normalized))\n",
    "def polynomial_basis(state):\n",
    "    normalize_basis_11(state)\n",
    "    return np.product(np.power(state_normalized,basis_matrix),axis=1)\n",
    "\n",
    "myMDP = imdp.infinite_state_MDP(actions,transition_func,reward_func,termination_func\\\n",
    "                                ,lambda : (0,0,0,0), 1, policy_random)\n",
    "episodes = 100\n",
    "repetitions = 100\n",
    "y = np.zeros((episodes,repetitions))\n",
    "j=0\n",
    "maxG = 0\n",
    "while j<repetitions:\n",
    "    i = 0\n",
    "    for G in imdp.Q(episodes,basis_matrix.shape[0],len(actions),action_id,.003,polynomial_basis,imdp.delta_linear,myMDP):\n",
    "        y[i,j] = G\n",
    "        i+=1\n",
    "        maxG = max(maxG,G)\n",
    "    j+=1\n",
    "std = np.std(y,axis = 1)\n",
    "mean = np.mean(y,axis = 1)\n",
    "\n",
    "plt.plot(range(1,101),np.mean(y,axis = 1))\n",
    "plt.fill_between(range(1,101), mean-std, mean+std,alpha  = .1)\n",
    "\n",
    "\n",
    "\n"
   ]
  },
  {
   "cell_type": "code",
   "execution_count": 12,
   "metadata": {},
   "outputs": [
    {
     "data": {
      "text/plain": [
       "1010"
      ]
     },
     "execution_count": 12,
     "metadata": {},
     "output_type": "execute_result"
    }
   ],
   "source": [
    "maxG"
   ]
  },
  {
   "cell_type": "code",
   "execution_count": 11,
   "metadata": {},
   "outputs": [
    {
     "data": {
      "text/plain": [
       "array([ 54.03109588, 518.8175736 ])"
      ]
     },
     "execution_count": 11,
     "metadata": {},
     "output_type": "execute_result"
    }
   ],
   "source": [
    "np.matmul(fourier_basis([0,.5,.5,.5]),imdp._w_)"
   ]
  },
  {
   "cell_type": "code",
   "execution_count": 14,
   "metadata": {},
   "outputs": [
    {
     "data": {
      "text/plain": [
       "(256, 4)"
      ]
     },
     "execution_count": 14,
     "metadata": {},
     "output_type": "execute_result"
    }
   ],
   "source": [
    "basis_matrix.shape"
   ]
  },
  {
   "cell_type": "code",
   "execution_count": null,
   "metadata": {},
   "outputs": [],
   "source": []
  }
 ],
 "metadata": {
  "kernelspec": {
   "display_name": "Python 3",
   "language": "python",
   "name": "python3"
  },
  "language_info": {
   "codemirror_mode": {
    "name": "ipython",
    "version": 3
   },
   "file_extension": ".py",
   "mimetype": "text/x-python",
   "name": "python",
   "nbconvert_exporter": "python",
   "pygments_lexer": "ipython3",
   "version": "3.7.1"
  }
 },
 "nbformat": 4,
 "nbformat_minor": 2
}
