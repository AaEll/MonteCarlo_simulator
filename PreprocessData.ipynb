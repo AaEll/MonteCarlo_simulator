{
 "cells": [
  {
   "cell_type": "code",
   "execution_count": 1,
   "metadata": {},
   "outputs": [
    {
     "name": "stdout",
     "output_type": "stream",
     "text": [
      "# Directed graph (each unordered pair of nodes is saved once): soc-LiveJournal1.txt \n",
      "\n",
      "# Directed LiveJournal friednship social network\n",
      "\n",
      "# Nodes: 4847571 Edges: 68993773\n",
      "\n",
      "# FromNodeId\tToNodeId\n",
      "\n"
     ]
    }
   ],
   "source": [
    "Histogram_of_lengths = {}\n",
    "with open(\"data/soc-LiveJournal1.txt\",'r') as f:\n",
    "    i = 0\n",
    "    count = 0\n",
    "    current_pos = '0'\n",
    "    for line in f:\n",
    "        if i<4:\n",
    "            print(line)\n",
    "        else:\n",
    "            pos, _ = line.split()\n",
    "            if pos == current_pos:\n",
    "                count += 1\n",
    "            else:\n",
    "                current_pos = pos\n",
    "                if count in Histogram_of_lengths:\n",
    "                    Histogram_of_lengths[count] += 1\n",
    "                else:\n",
    "                    Histogram_of_lengths[count] = 1\n",
    "        i+=1\n",
    "    if count in Histogram_of_lengths:\n",
    "        Histogram_of_lengths[count] += 1\n",
    "    else:\n",
    "        Histogram_of_lengths[count] = 1\n"
   ]
  },
  {
   "cell_type": "code",
   "execution_count": 2,
   "metadata": {},
   "outputs": [
    {
     "name": "stdout",
     "output_type": "stream",
     "text": [
      "520494\n"
     ]
    }
   ],
   "source": [
    "foo = 0\n",
    "with open(\"data/counts.txt\",'w+') as f:\n",
    "    for count_id,count_no in Histogram_of_lengths.items():\n",
    "        f.write(\"{},{}\\r\\n\".format(count_id,count_no))\n",
    "        if count_no>1:\n",
    "            foo+=1\n",
    "print (foo)"
   ]
  },
  {
   "cell_type": "code",
   "execution_count": null,
   "metadata": {},
   "outputs": [],
   "source": []
  }
 ],
 "metadata": {
  "kernelspec": {
   "display_name": "Python 3",
   "language": "python",
   "name": "python3"
  },
  "language_info": {
   "codemirror_mode": {
    "name": "ipython",
    "version": 3
   },
   "file_extension": ".py",
   "mimetype": "text/x-python",
   "name": "python",
   "nbconvert_exporter": "python",
   "pygments_lexer": "ipython3",
   "version": "3.6.5"
  }
 },
 "nbformat": 4,
 "nbformat_minor": 2
}
