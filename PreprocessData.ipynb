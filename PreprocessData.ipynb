{
 "cells": [
  {
   "cell_type": "code",
   "execution_count": 6,
   "metadata": {},
   "outputs": [
    {
     "name": "stdout",
     "output_type": "stream",
     "text": [
      "# Undirected graph: ../../data/output/lj.ungraph.txt\n",
      "\n",
      "# LiveJournal\n",
      "\n",
      "# Nodes: 3997962 Edges: 34681189\n",
      "\n",
      "# FromNodeId\tToNodeId\n",
      "\n",
      "856\n"
     ]
    }
   ],
   "source": [
    "Histogram_of_lengths = {}\n",
    "with open(\"resources/data/com-lj.ungraph.txt\",'r') as f:\n",
    "    i = 0\n",
    "    count = 0\n",
    "    current_pos = '0'\n",
    "    for line in f:\n",
    "        if i<4:\n",
    "            print(line)\n",
    "        else:\n",
    "            pos, _ = line.split()\n",
    "            if pos == current_pos:\n",
    "                count += 1\n",
    "            else:\n",
    "                current_pos = pos\n",
    "                if count in Histogram_of_lengths:\n",
    "                    Histogram_of_lengths[count] += 1\n",
    "                else:\n",
    "                    Histogram_of_lengths[count] = 1\n",
    "                count = 1                    \n",
    "        i+=1\n",
    "    if count in Histogram_of_lengths:\n",
    "        Histogram_of_lengths[count] += 1\n",
    "    else:\n",
    "        Histogram_of_lengths[count] = 1\n",
    "foo = 0\n",
    "\n",
    "with open(\"resources/data/soc-LiveJournal1counts.txt\",'w+') as f:\n",
    "    for count_id,count_no in Histogram_of_lengths.items():\n",
    "        f.write(\"{},{}\\n\".format(count_id,count_no))\n",
    "        if count_no>1:\n",
    "            foo+=1\n",
    "print (foo)"
   ]
  },
  {
   "cell_type": "code",
   "execution_count": 1,
   "metadata": {},
   "outputs": [
    {
     "name": "stdout",
     "output_type": "stream",
     "text": [
      "# Undirected graph: ../../data/output/orkut.txt\n",
      "\n",
      "# Orkut\n",
      "\n",
      "# Nodes: 3072441 Edges: 117185083\n",
      "\n",
      "# FromNodeId\tToNodeId\n",
      "\n",
      "1500\n"
     ]
    }
   ],
   "source": [
    "Histogram_of_lengths = {}\n",
    "with open(\"resources/data/com-orkut.ungraph.txt\",'r') as f:\n",
    "    i = 0\n",
    "    count = 0\n",
    "    current_pos = '0'\n",
    "    for line in f:\n",
    "        if i<4:\n",
    "            print(line)\n",
    "        else:\n",
    "            pos, _ = line.split()\n",
    "            if pos == current_pos:\n",
    "                count += 1\n",
    "            else:\n",
    "                current_pos = pos\n",
    "                if count in Histogram_of_lengths:\n",
    "                    Histogram_of_lengths[count] += 1\n",
    "                else:\n",
    "                    Histogram_of_lengths[count] = 1\n",
    "                count = 1                    \n",
    "        i+=1\n",
    "    if count in Histogram_of_lengths:\n",
    "        Histogram_of_lengths[count] += 1\n",
    "    else:\n",
    "        Histogram_of_lengths[count] = 1\n",
    "foo = 0\n",
    "\n",
    "with open(\"resources/data/com-orkut.ungraphcounts.txt\",'w+') as f:\n",
    "    for count_id,count_no in Histogram_of_lengths.items():\n",
    "        f.write(\"{},{}\\n\".format(count_id,count_no))\n",
    "        if count_no>1:\n",
    "            foo+=1\n",
    "print (foo)"
   ]
  },
  {
   "cell_type": "code",
   "execution_count": 13,
   "metadata": {},
   "outputs": [
    {
     "name": "stdout",
     "output_type": "stream",
     "text": [
      "8\n"
     ]
    }
   ],
   "source": [
    "Histogram_of_lengths = {}\n",
    "with open(\"data/sx-stackoverflow.txt\",'r') as f:\n",
    "    i = 0\n",
    "    count = 0\n",
    "    current_pos = '0'\n",
    "    for line in f:\n",
    "        if i<0:\n",
    "            print(line)\n",
    "        else:\n",
    "            _,pos,_ = line.split()\n",
    "            if pos == current_pos:\n",
    "                count += 1\n",
    "            else:\n",
    "                current_pos = pos\n",
    "                if count in Histogram_of_lengths:\n",
    "                    Histogram_of_lengths[count] += 1\n",
    "                else:\n",
    "                    Histogram_of_lengths[count] = 1\n",
    "                count = 1 \n",
    "        i+=1\n",
    "    if count in Histogram_of_lengths:\n",
    "        Histogram_of_lengths[count] += 1\n",
    "    else:\n",
    "        Histogram_of_lengths[count] = 1\n",
    "foo = 0\n",
    "with open(\"data/sx-stackoverflowcounts.txt\",'w+') as f:\n",
    "    for count_id,count_no in Histogram_of_lengths.items():\n",
    "        f.write(\"{},{}\\r\\n\".format(count_id,count_no))\n",
    "        if count_no>1:\n",
    "            foo+=1\n",
    "print (foo)"
   ]
  },
  {
   "cell_type": "code",
   "execution_count": 14,
   "metadata": {},
   "outputs": [
    {
     "name": "stdout",
     "output_type": "stream",
     "text": [
      "# Directed graph (each unordered pair of nodes is saved once): Cit-Patents.txt \n",
      "\n",
      "# US Patent citation network 1975-1999\n",
      "\n",
      "# Nodes: 3774768 Edges: 16518948\n",
      "\n",
      "# FromNodeId\tToNodeId\n",
      "\n",
      "6\n"
     ]
    }
   ],
   "source": [
    "Histogram_of_lengths = {}\n",
    "with open(\"data/cit-Patents.txt\",'r') as f:\n",
    "    i = 0\n",
    "    count = 0\n",
    "    current_pos = '0'\n",
    "    for line in f:\n",
    "        if i<4:\n",
    "            print(line)\n",
    "        else:\n",
    "            _, pos = line.split()\n",
    "            if pos == current_pos:\n",
    "                count += 1\n",
    "            else:\n",
    "                current_pos = pos\n",
    "                if count in Histogram_of_lengths:\n",
    "                    Histogram_of_lengths[count] += 1\n",
    "                else:\n",
    "                    Histogram_of_lengths[count] = 1\n",
    "                count = 1                    \n",
    "        i+=1\n",
    "    if count in Histogram_of_lengths:\n",
    "        Histogram_of_lengths[count] += 1\n",
    "    else:\n",
    "        Histogram_of_lengths[count] = 1\n",
    "foo = 0\n",
    "with open(\"data/cit-Patentscount.txt\",'w+') as f:\n",
    "    for count_id,count_no in Histogram_of_lengths.items():\n",
    "        f.write(\"{},{}\\r\\n\".format(count_id,count_no))\n",
    "        if count_no>1:\n",
    "            foo+=1\n",
    "print (foo)"
   ]
  },
  {
   "cell_type": "code",
   "execution_count": 12,
   "metadata": {},
   "outputs": [
    {
     "name": "stdout",
     "output_type": "stream",
     "text": [
      "# Undirected graph: ../../data/output/orkut.txt\n",
      "\n",
      "# Orkut\n",
      "\n",
      "# Nodes: 3072441 Edges: 117185083\n",
      "\n",
      "# FromNodeId\tToNodeId\n",
      "\n",
      "1500\n"
     ]
    }
   ],
   "source": [
    "Histogram_of_lengths = {}\n",
    "with open(\"data/com-orkut.ungraph.txt\",'r') as f:\n",
    "    i = 0\n",
    "    count = 0\n",
    "    current_pos = '0'\n",
    "    for line in f:\n",
    "        if i<4:\n",
    "            print(line)\n",
    "        else:\n",
    "            pos,_ = line.split()\n",
    "            if pos == current_pos:\n",
    "                count += 1\n",
    "            else:\n",
    "                current_pos = pos\n",
    "                if count in Histogram_of_lengths:\n",
    "                    Histogram_of_lengths[count] += 1\n",
    "                else:\n",
    "                    Histogram_of_lengths[count] = 1\n",
    "                count = 1                    \n",
    "        i+=1\n",
    "    if count in Histogram_of_lengths:\n",
    "        Histogram_of_lengths[count] += 1\n",
    "    else:\n",
    "        Histogram_of_lengths[count] = 1\n",
    "foo = 0\n",
    "with open(\"data/com-orkut.ungraphcounts.txt\",'w+') as f:\n",
    "    for count_id,count_no in Histogram_of_lengths.items():\n",
    "        f.write(\"{},{}\\r\\n\".format(count_id,count_no))\n",
    "        if count_no>1:\n",
    "            foo+=1\n",
    "print (foo)"
   ]
  },
  {
   "cell_type": "code",
   "execution_count": 2,
   "metadata": {},
   "outputs": [
    {
     "data": {
      "text/plain": [
       "'sqlDF = spark.sql(\\n    \"\"SELECT _c1, count(*) as cnt\\n       FROM twitter\\n       GROUP BY _c1\\n    \")\\nsqlDF.coalesce(1).write.csv(\"./resources/data/twitter-2010_C1.csv\")\\n'"
      ]
     },
     "execution_count": 2,
     "metadata": {},
     "output_type": "execute_result"
    }
   ],
   "source": [
    "from pyspark.sql import SparkSession\n",
    "\n",
    "spark = SparkSession \\\n",
    "    .builder \\\n",
    "    .appName(\"Python Spark : Find # of neighbors\") \\\n",
    "    .getOrCreate()\n",
    "\n",
    "df = spark.read.csv(\"resources/data/twitter-2010.txt\", sep = ' ')\n",
    "df.createOrReplaceTempView(\"twitter\")\n",
    "'''\n",
    "df2 = df.sample(False, fraction=1e-8) #THIS WORKS\n",
    "df2.show()\n",
    "'''\n",
    "\n",
    "sqlDF = spark.sql(\"SELECT t._c0, count(*) FROM twitter as t GROUP BY t._c0\")\n",
    "\n",
    "sqlDF.write.csv(\"./resources/data/twitter-2010_C0.csv\")\n",
    "\n",
    "\n",
    "\"\"\"sqlDF = spark.sql(\n",
    "    \"\"SELECT _c1, count(*) as cnt\n",
    "       FROM twitter\n",
    "       GROUP BY _c1\n",
    "    \")\n",
    "sqlDF.coalesce(1).write.csv(\"./resources/data/twitter-2010_C1.csv\")\n",
    "\"\"\"\n",
    "\n",
    "\n"
   ]
  },
  {
   "cell_type": "code",
   "execution_count": 9,
   "metadata": {},
   "outputs": [],
   "source": [
    "df = spark.read.csv(\"resources/data/twitter-2010_C0.csv/part*\")"
   ]
  },
  {
   "cell_type": "code",
   "execution_count": 11,
   "metadata": {},
   "outputs": [],
   "source": [
    "df.createOrReplaceTempView(\"follower_counts\")\n",
    "\n",
    "sqlDF = spark.sql(\"SELECT t._c1, count(*) FROM follower_counts as t GROUP BY t._c1\")\n",
    "sqlDF.coalesce(1).write.csv(\"./resources/data/twitter-2010_C0_COUNTS\")\n"
   ]
  },
  {
   "cell_type": "code",
   "execution_count": null,
   "metadata": {},
   "outputs": [],
   "source": []
  }
 ],
 "metadata": {
  "kernelspec": {
   "display_name": "Python 3",
   "language": "python",
   "name": "python3"
  },
  "language_info": {
   "codemirror_mode": {
    "name": "ipython",
    "version": 3
   },
   "file_extension": ".py",
   "mimetype": "text/x-python",
   "name": "python",
   "nbconvert_exporter": "python",
   "pygments_lexer": "ipython3",
   "version": "3.6.7"
  }
 },
 "nbformat": 4,
 "nbformat_minor": 2
}
