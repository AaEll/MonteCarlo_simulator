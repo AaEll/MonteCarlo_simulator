{
 "cells": [
  {
   "cell_type": "code",
   "execution_count": 1,
   "metadata": {},
   "outputs": [],
   "source": [
    "import numpy as np\n",
    "import math\n",
    "import matplotlib.pyplot as plt\n",
    "import seaborn\n",
    "import random\n",
    "import importlib\n",
    "resources = importlib.import_module(\"resources\")\n",
    "import resources.finiteMDP as fmdp\n",
    "import resources.infMDP as imdp\n",
    "from itertools import product\n",
    "random.seed(100)\n",
    "\n",
    "%matplotlib inline\n",
    "\n"
   ]
  },
  {
   "cell_type": "code",
   "execution_count": 2,
   "metadata": {},
   "outputs": [
    {
     "data": {
      "text/plain": [
       "[<matplotlib.lines.Line2D at 0x295ed6a9c50>]"
      ]
     },
     "execution_count": 2,
     "metadata": {},
     "output_type": "execute_result"
    },
    {
     "data": {
      "image/png": "[encoded data removed]",
      "text/plain": [
       "<Figure size 432x288 with 1 Axes>"
      ]
     },
     "metadata": {
      "needs_background": "light"
     },
     "output_type": "display_data"
    }
   ],
   "source": [
    "# GridWorld\n",
    "\n",
    "states = list(range(22)) ; states.append('inf')\n",
    "actions = [\"AU\",\"AD\",\"AL\",\"AR\"]\n",
    "action_dict= {\"AU\":[.8,0,.05,.05,.1],\n",
    "              \"AL\":[.05,.05,.8,0,.1],\n",
    "              \"AR\":[.05,.05,0,.8,.1],\n",
    "              \"AD\":[0,.8,.05,.05,.1]}\n",
    "                #   U D L R C\n",
    "transition_dict = {0:[0,5,0,1,0],\n",
    "                   1:[0,5,-1,1,0],\n",
    "                   2:[0,5,-1,1,0],\n",
    "                   3:[0,5,-1,1,0],\n",
    "                   4:[0,5,-1,0,0],\n",
    "                   5:[-5,5,0,1,0],\n",
    "                   6:[-5,5,-1,1,0],\n",
    "                   7:[-5,0,-1,1,0],\n",
    "                   8:[-5,4,-1,1,0],\n",
    "                   9:[-5,4,-1,0,0],\n",
    "                  10:[-5,4,0,1,0],\n",
    "                  11:[-5,4,-1,0,0],\n",
    "                  12:[-4,4,0,1,0],\n",
    "                  13:[-4,4,-1,0,0],\n",
    "                  14:[-4,4,0,1,0],\n",
    "                  15:[-4,4,-1,0,0],\n",
    "                  16:[-4,5,0,1,0],\n",
    "                  17:[-4,None,-1,0,0],\n",
    "                  18:[-4,0,0,1,0],\n",
    "                  19:[-4,0,-1,1,0],\n",
    "                  20:[0,0,-1,1,0],\n",
    "                  21:[-5,0,-1,None,0]}\n",
    "def transition_func(state,action):\n",
    "    direction = np.random.choice(list(range(5)),p = action_dict[action])\n",
    "    change = transition_dict[state][direction]\n",
    "    if change is None:\n",
    "        return 'inf'\n",
    "    else:\n",
    "        return state + change\n",
    "def reward_func(state,action):\n",
    "    if state ==20:\n",
    "        return -10\n",
    "    elif state == 'inf':\n",
    "        return 10\n",
    "    else:\n",
    "        return 0\n",
    "def policy_random(state,actions):\n",
    "    return random.choice(actions)\n",
    "myMDP = fmdp.MDP(states,actions,transition_func,reward_func,lambda : 0, .9, policy_random)\n",
    "\n",
    "episodes = 100\n",
    "x_range = np.concatenate((np.logspace(-5,-3,20),np.logspace(-3,-1,20),np.logspace(-1,0,10)))\n",
    "y = []\n",
    "for alpha in x_range:\n",
    "    V_pi = fmdp.TemporalDifference(episodes,alpha,myMDP)\n",
    "    y.append(fmdp.TestTD(episodes,alpha,myMDP,V_pi))\n",
    "plt.xscale('log')\n",
    "plt.plot(x_range,y)\n",
    "\n",
    "#alpha=  .1\n",
    "#V_pi = fmdp.TemporalDifference(100,alpha,myMDP)\n",
    "#print(fmdp.TestTD(100,alpha,myMDP,V_pi))\n",
    "\n"
   ]
  },
  {
   "cell_type": "code",
   "execution_count": 2,
   "metadata": {},
   "outputs": [
    {
     "name": "stdout",
     "output_type": "stream",
     "text": [
      "(256,)\n",
      "(256,)\n"
     ]
    },
    {
     "ename": "AssertionError",
     "evalue": "",
     "output_type": "error",
     "traceback": [
      "\u001b[1;31m---------------------------------------------------------------------------\u001b[0m",
      "\u001b[1;31mAssertionError\u001b[0m                            Traceback (most recent call last)",
      "\u001b[1;32m<ipython-input-2-ba3999e5dbde>\u001b[0m in \u001b[0;36m<module>\u001b[1;34m\u001b[0m\n\u001b[0;32m     77\u001b[0m \u001b[1;32mfor\u001b[0m \u001b[0malpha\u001b[0m \u001b[1;32min\u001b[0m \u001b[0mx_range\u001b[0m\u001b[1;33m:\u001b[0m\u001b[1;33m\u001b[0m\u001b[1;33m\u001b[0m\u001b[0m\n\u001b[0;32m     78\u001b[0m     \u001b[1;32mtry\u001b[0m\u001b[1;33m:\u001b[0m\u001b[1;33m\u001b[0m\u001b[1;33m\u001b[0m\u001b[0m\n\u001b[1;32m---> 79\u001b[1;33m         \u001b[0mw\u001b[0m \u001b[1;33m=\u001b[0m \u001b[0mimdp\u001b[0m\u001b[1;33m.\u001b[0m\u001b[0mTemporalDifferenceParameters\u001b[0m\u001b[1;33m(\u001b[0m\u001b[0mno_dim\u001b[0m\u001b[1;33m,\u001b[0m\u001b[0mfourier_basis\u001b[0m\u001b[1;33m,\u001b[0m\u001b[0mimdp\u001b[0m\u001b[1;33m.\u001b[0m\u001b[0mdelta_linear\u001b[0m\u001b[1;33m,\u001b[0m\u001b[0mimdp\u001b[0m\u001b[1;33m.\u001b[0m\u001b[0mlinear_policy\u001b[0m\u001b[1;33m,\u001b[0m\u001b[0mepisodes\u001b[0m\u001b[1;33m,\u001b[0m\u001b[0malpha\u001b[0m\u001b[1;33m,\u001b[0m\u001b[0mmyMDP\u001b[0m\u001b[1;33m)\u001b[0m\u001b[1;33m\u001b[0m\u001b[1;33m\u001b[0m\u001b[0m\n\u001b[0m\u001b[0;32m     80\u001b[0m         \u001b[0my\u001b[0m\u001b[1;33m.\u001b[0m\u001b[0mappend\u001b[0m\u001b[1;33m(\u001b[0m\u001b[0mimdp\u001b[0m\u001b[1;33m.\u001b[0m\u001b[0mtest_TDParameters\u001b[0m\u001b[1;33m(\u001b[0m\u001b[0mno_dim\u001b[0m\u001b[1;33m,\u001b[0m\u001b[0mfourier_basis\u001b[0m\u001b[1;33m,\u001b[0m\u001b[0mimdp\u001b[0m\u001b[1;33m.\u001b[0m\u001b[0mdelta_linear\u001b[0m\u001b[1;33m,\u001b[0m\u001b[0mimdp\u001b[0m\u001b[1;33m.\u001b[0m\u001b[0mlinear_policy\u001b[0m\u001b[1;33m,\u001b[0m\u001b[0mepisodes\u001b[0m\u001b[1;33m,\u001b[0m\u001b[0malpha\u001b[0m\u001b[1;33m,\u001b[0m\u001b[0mmyMDP\u001b[0m\u001b[1;33m,\u001b[0m\u001b[0mw\u001b[0m\u001b[1;33m)\u001b[0m\u001b[1;33m)\u001b[0m\u001b[1;33m\u001b[0m\u001b[1;33m\u001b[0m\u001b[0m\n\u001b[0;32m     81\u001b[0m     \u001b[1;32mexcept\u001b[0m \u001b[0mFloatingPointError\u001b[0m\u001b[1;33m:\u001b[0m\u001b[1;33m\u001b[0m\u001b[1;33m\u001b[0m\u001b[0m\n",
      "\u001b[1;32m~\\DEnv\\MonteCarlo_simulator\\resources\\infMDP.py\u001b[0m in \u001b[0;36mTemporalDifferenceParameters\u001b[1;34m(no_dim, basis, delta_policy, func_policy, no_episodes, alpha, MDP)\u001b[0m\n\u001b[0;32m     79\u001b[0m             \u001b[0mprint\u001b[0m\u001b[1;33m(\u001b[0m\u001b[0mw\u001b[0m\u001b[1;33m.\u001b[0m\u001b[0mshape\u001b[0m\u001b[1;33m)\u001b[0m\u001b[1;33m\u001b[0m\u001b[1;33m\u001b[0m\u001b[0m\n\u001b[0;32m     80\u001b[0m             \u001b[0mprint\u001b[0m\u001b[1;33m(\u001b[0m\u001b[0mdelta_policy\u001b[0m\u001b[1;33m(\u001b[0m\u001b[0mw\u001b[0m\u001b[1;33m,\u001b[0m\u001b[0mprev_state\u001b[0m\u001b[1;33m,\u001b[0m\u001b[0mbasis\u001b[0m\u001b[1;33m)\u001b[0m\u001b[1;33m.\u001b[0m\u001b[0mshape\u001b[0m\u001b[1;33m)\u001b[0m\u001b[1;33m\u001b[0m\u001b[1;33m\u001b[0m\u001b[0m\n\u001b[1;32m---> 81\u001b[1;33m             \u001b[1;32massert\u001b[0m\u001b[1;33m(\u001b[0m\u001b[1;36m0\u001b[0m\u001b[1;33m)\u001b[0m\u001b[1;33m\u001b[0m\u001b[1;33m\u001b[0m\u001b[0m\n\u001b[0m\u001b[0;32m     82\u001b[0m             \u001b[0mprev_state\u001b[0m \u001b[1;33m=\u001b[0m \u001b[0mMDP\u001b[0m\u001b[1;33m.\u001b[0m\u001b[0mcurrent_state\u001b[0m\u001b[1;33m\u001b[0m\u001b[1;33m\u001b[0m\u001b[0m\n\u001b[0;32m     83\u001b[0m     \u001b[1;32mreturn\u001b[0m \u001b[0mw\u001b[0m\u001b[1;33m\u001b[0m\u001b[1;33m\u001b[0m\u001b[0m\n",
      "\u001b[1;31mAssertionError\u001b[0m: "
     ]
    }
   ],
   "source": [
    "# CartPole\n",
    "actions = (\"L\",\"R\")\n",
    "def policy_random(state,actions):\n",
    "    return random.choice(actions)\n",
    "\n",
    "\n",
    "max_angle = math.pi/2\n",
    "min_angle = -math.pi/2\n",
    "max_t = int(20.2/.02)\n",
    "max_x = 3\n",
    "min_x = -3\n",
    "def termination_func(state,time):\n",
    "    vel,pos,ang_vel,theta = state    \n",
    "    return (pos > max_x or pos<min_x or theta<min_angle or theta>max_angle or time >= max_t) \n",
    "def reward_func(state,action):\n",
    "    if termination_func(state,0):\n",
    "        return 0\n",
    "    else:\n",
    "        return 1\n",
    "    \n",
    "delta_t = .02\n",
    "m_p = .1\n",
    "m_c = 1\n",
    "mcp = m_c+m_p\n",
    "l = .5\n",
    "motor_force = 10 #in newtons\n",
    "g = 9.8\n",
    "\n",
    "def transition_func(state,action):\n",
    "    vel,pos,ang_vel,theta = state\n",
    "    sin = math.sin(theta)\n",
    "    cos = math.cos(theta)\n",
    "    if action == 'L':\n",
    "        F = -motor_force\n",
    "    else:\n",
    "        F = motor_force\n",
    "    x = (F + l*m_p*sin*(ang_vel**2))/mcp\n",
    "    ang_acc = (g*sin-cos*x)/(l*(4/3-m_p*cos**2/mcp))\n",
    "    #    acc = (F+m_p*l*(sin*ang_vel**2-ang_acc*cos))/mcp\n",
    "    acc = x - l*m_p*ang_acc*cos/mcp\n",
    "\n",
    "    pos += vel*delta_t\n",
    "    theta += ang_vel*delta_t\n",
    "    vel += acc*delta_t\n",
    "    ang_vel += ang_acc*delta_t\n",
    "    return (vel,pos,ang_vel,theta)\n",
    "\n",
    "n = 3 # 5 or 3\n",
    "d = 4  \n",
    "basis_matrix = np.array(list(product(range(n+1),repeat = d)),dtype=np.float64)\n",
    "state_normalized = np.zeros(4,dtype=np.float64)\n",
    "max_v = 10; min_v = -10\n",
    "max_a = np.pi ; min_a = -np.pi\n",
    "epsilon = 10\n",
    "wide_max_x = max_x+epsilon ; wide_min_x = min_x-epsilon\n",
    "wide_max_theta = max_angle+epsilon; wide_min_theta = min_angle-epsilon\n",
    "\n",
    "def normalize_basis(state):\n",
    "    global state_normalized\n",
    "    state_normalized[0] = (state[0]-min_v)/(max_v-min_v)    \n",
    "    state_normalized[1] = (state[1]-wide_min_x)/(wide_max_x-wide_min_x)\n",
    "    state_normalized[2] = (state[2]-min_a)/(max_a-min_a)    \n",
    "    state_normalized[3] = (state[3]-wide_min_theta)/(wide_max_theta-wide_min_theta)\n",
    "\n",
    "def fourier_basis(state):\n",
    "    normalize_basis(state)\n",
    "    return np.cos(np.pi*np.dot(basis_matrix,state_normalized))\n",
    "\n",
    "myMDP = imdp.infinite_state_MDP(actions,transition_func,reward_func,termination_func\\\n",
    "                                ,lambda : (0,0,0,0), 1, policy_random)\n",
    "\n",
    "episodes = 100\n",
    "no_dim = (n+1)**d\n",
    "x_range = np.concatenate((np.logspace(-5,-3,20),np.logspace(-3,-1,20)))\n",
    "y = []\n",
    "np.seterr(all='raise')\n",
    "for alpha in x_range:\n",
    "    try:\n",
    "        w = imdp.TemporalDifferenceParameters(no_dim,fourier_basis,imdp.delta_linear,imdp.linear_policy,episodes,alpha,myMDP)\n",
    "        y.append(imdp.test_TDParameters(no_dim,fourier_basis,imdp.delta_linear,imdp.linear_policy,episodes,alpha,myMDP,w))\n",
    "    except FloatingPointError:\n",
    "        #print(\"!\")\n",
    "        y.append(0)\n",
    "for i in range(len(y)):\n",
    "    if np.isnan(y[i]) or y[i]>100: #If diverged, set to 0\n",
    "        y[i] = 0\n",
    "plt.xscale('log')\n",
    "plt.plot(x_range,y)\n",
    "\n"
   ]
  },
  {
   "cell_type": "code",
   "execution_count": 3,
   "metadata": {},
   "outputs": [
    {
     "data": {
      "text/plain": [
       "[0.9563224205370691,\n",
       " 1.0214736724296056,\n",
       " 1.0798769509795851,\n",
       " 1.3202332913187322,\n",
       " 1.671334596164132,\n",
       " 2.197588747766005,\n",
       " 2.0539436013995176,\n",
       " 2.372881520678969,\n",
       " 2.857620219658885,\n",
       " 3.323787302252621,\n",
       " 3.126719833537669,\n",
       " 4.538776081524553,\n",
       " 3.043575448252864,\n",
       " 3.2423461220748435,\n",
       " 3.505073656205383,\n",
       " 3.333294857512224,\n",
       " 2.163546448712526,\n",
       " 1.4684717658399038,\n",
       " 2.403272108011138,\n",
       " 5.082729306355331,\n",
       " 1.6384564924250018,\n",
       " 6.6270322562393185,\n",
       " 4.055197852194113,\n",
       " 5.552423117251155,\n",
       " 20.04497118697408,\n",
       " 10.198723881735233,\n",
       " 8.657692423240226,\n",
       " 5.090624216799057,\n",
       " 8.624537159418866,\n",
       " 3.55859112689111e+42,\n",
       " 2.4548676181508187e+241,\n",
       " 0,\n",
       " 0,\n",
       " 0,\n",
       " 0,\n",
       " 0,\n",
       " 0,\n",
       " 0,\n",
       " 0,\n",
       " 0]"
      ]
     },
     "execution_count": 3,
     "metadata": {},
     "output_type": "execute_result"
    }
   ],
   "source": [
    "import matplotlib.pyplot as plt\n",
    "import numpy as np\n",
    "\n",
    "plt.xscale('log')\n",
    "plt.plot(x_range, y)\n",
    "plt.grid(True)\n",
    "y\n"
   ]
  },
  {
   "cell_type": "code",
   "execution_count": 6,
   "metadata": {},
   "outputs": [
    {
     "data": {
      "text/plain": [
       "array([ 4, 16], dtype=int32)"
      ]
     },
     "execution_count": 6,
     "metadata": {},
     "output_type": "execute_result"
    }
   ],
   "source": [
    "from itertools import product\n",
    "\n",
    "n = 3 # 5 or 3\n",
    "d = 4  \n",
    "basis_matrix = np.array(list(product(range(n+1),repeat = d)),dtype=np.float64)\n",
    "\n",
    "import numpy as np\n",
    "np.product(np.power([1,2],[[1,2],[3,4]]),axis=1)"
   ]
  },
  {
   "cell_type": "code",
   "execution_count": 7,
   "metadata": {},
   "outputs": [
    {
     "data": {
      "text/plain": [
       "array([[0., 0., 0., 0.],\n",
       "       [0., 0., 0., 1.],\n",
       "       [0., 0., 0., 2.],\n",
       "       ...,\n",
       "       [3., 3., 3., 1.],\n",
       "       [3., 3., 3., 2.],\n",
       "       [3., 3., 3., 3.]])"
      ]
     },
     "execution_count": 7,
     "metadata": {},
     "output_type": "execute_result"
    }
   ],
   "source": [
    "basis_matrix"
   ]
  },
  {
   "cell_type": "code",
   "execution_count": null,
   "metadata": {},
   "outputs": [],
   "source": []
  }
 ],
 "metadata": {
  "kernelspec": {
   "display_name": "Python 3",
   "language": "python",
   "name": "python3"
  },
  "language_info": {
   "codemirror_mode": {
    "name": "ipython",
    "version": 3
   },
   "file_extension": ".py",
   "mimetype": "text/x-python",
   "name": "python",
   "nbconvert_exporter": "python",
   "pygments_lexer": "ipython3",
   "version": "3.6.7"
  }
 },
 "nbformat": 4,
 "nbformat_minor": 2
}
