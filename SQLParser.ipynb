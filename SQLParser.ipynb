{
 "cells": [
  {
   "cell_type": "code",
   "execution_count": 1,
   "metadata": {},
   "outputs": [
    {
     "name": "stdout",
     "output_type": "stream",
     "text": [
      "3.7 µs ± 293 ns per loop (mean ± std. dev. of 7 runs, 100000 loops each)\n",
      "The slowest run took 9.33 times longer than the fastest. This could mean that an intermediate result is being cached.\n",
      "5.34 µs ± 5.97 µs per loop (mean ± std. dev. of 7 runs, 1 loop each)\n"
     ]
    }
   ],
   "source": [
    "\n",
    "import numpy as np\n",
    "from numba import jit\n",
    "\n",
    "def randint_numpy(n):\n",
    "    return np.random.randint(0, 10000, n)\n",
    "\n",
    "@jit\n",
    "def randint_numpy_jit(n):\n",
    "    return np.random.randint(0, 10000, n)\n",
    "\n",
    "%timeit randint_numpy(5)\n",
    "%timeit randint_numpy_jit(5)\n"
   ]
  },
  {
   "cell_type": "code",
   "execution_count": null,
   "metadata": {},
   "outputs": [],
   "source": []
  },
  {
   "cell_type": "code",
   "execution_count": 12,
   "metadata": {
    "scrolled": true
   },
   "outputs": [
    {
     "name": "stdout",
     "output_type": "stream",
     "text": [
      "# multiple tables\n",
      "SELECT * from XYZZY, ABC WHERE\n",
      "                              ^\n",
      "FAIL: Expected {\"and\" term | Group:({{column name \"=\" column name} | {column name \"=\" {real number | signed integer | quotedString using single or double quotes | column name}}}) | {Suppress:(\"(\") Forward: ... Suppress:(\")\")}} (at char 30), (line:1, col:31)\n",
      "\n",
      "# dotted table name\n",
      "select * from SYS.XYZZY\n",
      "                       ^\n",
      "FAIL: Expected \"where\" (at char 23), (line:1, col:24)\n",
      "\n",
      "\n",
      "Select A from Sys.dual\n",
      "                      ^\n",
      "FAIL: Expected \"where\" (at char 22), (line:1, col:23)\n",
      "\n",
      "\n",
      "Select A,B,C from Sys.dual\n",
      "                          ^\n",
      "FAIL: Expected \"where\" (at char 26), (line:1, col:27)\n",
      "\n",
      "\n",
      "Select A, B, C from Sys.dual, Table2\n",
      "                                    ^\n",
      "FAIL: Expected \"where\" (at char 36), (line:1, col:37)\n",
      "\n",
      "# FAIL - invalid SELECT keyword\n",
      "Xelect A, B, C from Sys.dual\n",
      "^\n",
      "FAIL: Expected \"select\" (at char 0), (line:1, col:1)\n",
      "\n",
      "# FAIL - invalid FROM keyword\n",
      "Select A, B, C frox Sys.dual\n",
      "               ^\n",
      "FAIL: Expected \"from\" (at char 15), (line:1, col:16)\n",
      "\n",
      "# FAIL - incomplete statement\n",
      "SelectR\n",
      "^\n",
      "FAIL: Expected \"select\" (at char 0), (line:1, col:1)\n",
      "\n",
      "# FAIL - incomplete statement\n",
      "Select * from\n",
      "             ^\n",
      "FAIL: Expected {{table name \"as\" alias} | table name} (at char 13), (line:1, col:14)\n",
      "\n",
      "# FAIL - invalid column\n",
      "Select &&& frox Sys.dual\n",
      "       ^\n",
      "FAIL: Expected {Group:({{{{{{\"count\" | \"avg\"} | \"min\"} | \"max\"} | \"sum\"} Group:({{\"(\" column name} \")\"})} | {\"count\" Group:(\"(*)\")}}) [, Group:({{{{{{\"count\" | \"avg\"} | \"min\"} | \"max\"} | \"sum\"} Group:({{\"(\" column name} \")\"})} | {\"count\" Group:(\"(*)\")}})]... | {\"*\" | Group:(column name [, column name]...)}} (at char 7), (line:1, col:8)\n",
      "\n",
      "# where clause\n",
      "Select A from Sys.dual where a in ('RED','GREEN','BLUE')\n",
      "                               ^\n",
      "FAIL: Expected {\"and\" term | Group:({{column name \"=\" column name} | {column name \"=\" {real number | signed integer | quotedString using single or double quotes | column name}}}) | {Suppress:(\"(\") Forward: ... Suppress:(\")\")}} (at char 31), (line:1, col:32)\n",
      "\n",
      "# compound where clause\n",
      "Select A from Sys.dual where a in ('RED','GREEN','BLUE') and b in (10,20,30)\n",
      "                               ^\n",
      "FAIL: Expected {\"and\" term | Group:({{column name \"=\" column name} | {column name \"=\" {real number | signed integer | quotedString using single or double quotes | column name}}}) | {Suppress:(\"(\") Forward: ... Suppress:(\")\")}} (at char 31), (line:1, col:32)\n",
      "\n",
      "# where clause with comparison operator\n",
      "Select A,b from table1,table2 where table1.id eq table2.id\n",
      "                                              ^\n",
      "FAIL: Expected {\"and\" term | Group:({{column name \"=\" column name} | {column name \"=\" {real number | signed integer | quotedString using single or double quotes | column name}}}) | {Suppress:(\"(\") Forward: ... Suppress:(\")\")}} (at char 46), (line:1, col:47)\n",
      "\n"
     ]
    }
   ],
   "source": [
    "from pyparsing import Word, delimitedList, Optional, \\\n",
    "    Group, alphas, alphanums, Forward, oneOf, quotedString, \\\n",
    "    infixNotation, opAssoc, \\\n",
    "    ZeroOrMore, restOfLine, CaselessKeyword, pyparsing_common as ppc\n",
    "\n",
    "# define SQL tokens\n",
    "selectStmt = Forward()\n",
    "SELECT, FROM, WHERE, AND, OR, IN, IS, NOT, NULL, COUNT, AVG, MIN, MAX, SUM, AS = map(CaselessKeyword, \n",
    "    \"select from where and or in is not null count avg min max sum as\".split())\n",
    "NOT_NULL = NOT + NULL\n",
    "\n",
    "ident          = Word( alphas, alphanums + \"_$\" ).setName(\"identifier\")\n",
    "alias          = delimitedList(ident, \".\", combine=True).setName(\"alias\")\n",
    "alias.addParseAction(ppc.upcaseTokens)\n",
    "columnName     = delimitedList(ident, \".\", combine=True).setName(\"column name\")\n",
    "columnName.addParseAction(ppc.upcaseTokens)\n",
    "columnNameList = Group( delimitedList(columnName))\n",
    "tableName      = delimitedList(ident, \".\", combine=True).setName(\"table name\")\n",
    "tableName.addParseAction(ppc.upcaseTokens)\n",
    "tableNameRalias= Group(\n",
    "    (tableName(\"table\") + AS + alias(\"alias\")) |\n",
    "    (tableName(\"table\"))\n",
    "    )\n",
    "\n",
    "tableNameList  = Group(delimitedList(tableNameRalias))\n",
    "\n",
    "binop = oneOf(\"= != < > >= <= eq ne lt le gt ge\", caseless=True)\n",
    "realNum = ppc.real()\n",
    "intNum = ppc.signed_integer()\n",
    "\n",
    "columnRval = realNum | intNum | quotedString | columnName # need to add support for alg expressions\n",
    "val = realNum | intNum | quotedString\n",
    "columnRstar = '*' | columnName # need to add support for alg expressions\n",
    "EquiJoin =     (columnName('col1') + '=' + columnName ('col2'))\n",
    "equalityPredicate = columnName('col1') + '=' + columnRval ('val')\n",
    "Predicates =     Group(( columnName('col1') + binop + columnRval ) |\n",
    "    ( columnName('col1') + IN + Group(\"(\" + delimitedList( columnRval ) + \")\" )) |\n",
    "    ( columnName('col1') + IN + Group(\"(\" + selectStmt + \")\" )) |\n",
    "    ( columnName + IS + (NULL | NOT_NULL)))\n",
    "\n",
    "whereCondition = Group(\n",
    "    EquiJoin ('equijoin') |\n",
    "    equalityPredicate ('equalitypredicate') |\n",
    "    Predicates ('otherPredicates')\n",
    "    )\n",
    "\n",
    "whereCondition_sketch = Group(\n",
    "    EquiJoin ('equijoin') |\n",
    "    equalityPredicate ('equalitypredicate') \n",
    "    )\n",
    "\n",
    "Aggregates = Group(\n",
    "     ((COUNT|AVG|MIN|MAX|SUM)(\"operator\") + (Group (\"(\"+columnName+\")\"))(\"operand\") ) |\n",
    "     (COUNT(\"operator\") + Group(\"(\"+\"*\"+\")\")(\"operand\"))\n",
    "    )\n",
    "\n",
    "AggregateExpression = delimitedList(Aggregates)\n",
    "\n",
    "whereExpression_predicates = infixNotation(whereCondition_sketch,\n",
    "    [\n",
    "        (AND, 2, opAssoc.LEFT),\n",
    "    ])\n",
    "\n",
    "whereExpression = infixNotation(whereCondition,\n",
    "    [\n",
    "        (NOT, 1, opAssoc.RIGHT),\n",
    "        (AND, 2, opAssoc.LEFT),\n",
    "        (OR, 2, opAssoc.LEFT),\n",
    "    ])\n",
    "\n",
    "# define the grammar\n",
    "selectStmt <<= (SELECT + ((AggregateExpression)(\"aggregates\") | ('*' | columnNameList)(\"columns\")) +\n",
    "                FROM + tableNameList( \"tables\" ) +\n",
    "                WHERE +(whereExpression_predicates)(\"sketch_predicates\")+ Optional((whereExpression)(\"predicates\")))\n",
    "\n",
    "simpleSQL = selectStmt\n",
    "\n",
    "# define Oracle comment format, and ignore them\n",
    "oracleSqlComment = \"--\" + restOfLine\n",
    "simpleSQL.ignore( oracleSqlComment )\n",
    "\n",
    "if __name__ == \"__main__\":\n",
    "    simpleSQL.runTests(\"\"\"\\\n",
    "        # multiple tables\n",
    "        SELECT * from XYZZY, ABC WHERE \n",
    "        # dotted table name\n",
    "        select * from SYS.XYZZY\n",
    "        Select A from Sys.dual\n",
    "        Select A,B,C from Sys.dual\n",
    "        Select A, B, C from Sys.dual, Table2\n",
    "        # FAIL - invalid SELECT keyword\n",
    "        Xelect A, B, C from Sys.dual\n",
    "        # FAIL - invalid FROM keyword\n",
    "        Select A, B, C frox Sys.dual\n",
    "        # FAIL - incomplete statement\n",
    "        SelectR\n",
    "        # FAIL - incomplete statement\n",
    "        Select * from\n",
    "        # FAIL - invalid column\n",
    "        Select &&& frox Sys.dual\n",
    "        # where clause\n",
    "        Select A from Sys.dual where a in ('RED','GREEN','BLUE')\n",
    "        # compound where clause\n",
    "        Select A from Sys.dual where a in ('RED','GREEN','BLUE') and b in (10,20,30)\n",
    "        # where clause with comparison operator\n",
    "        Select A,b from table1,table2 where table1.id eq table2.id\n",
    "        \"\"\")\n"
   ]
  },
  {
   "cell_type": "code",
   "execution_count": 13,
   "metadata": {
    "scrolled": false
   },
   "outputs": [
    {
     "name": "stdout",
     "output_type": "stream",
     "text": [
      "\n",
      "select COUNT(*), avg (T2.mm), max(T1.ss) FROM table1 as T12,table2 AS T2 where table1.id = table2.id AND table1.wage = 4000\n",
      "['select', ['count', ['(*)']], ['avg', ['(', 'T2.MM', ')']], ['max', ['(', 'T1.SS', ')']], 'from', [['TABLE1', 'as', 'T12'], ['TABLE2', 'as', 'T2']], 'where', [['TABLE1.ID', '=', 'TABLE2.ID'], 'and', ['TABLE1.WAGE', '=', 4000]]]\n",
      "- aggregates: [['count', ['(*)']], ['avg', ['(', 'T2.MM', ')']], ['max', ['(', 'T1.SS', ')']]]\n",
      "  [0]:\n",
      "    ['count', ['(*)']]\n",
      "    - operand: ['(*)']\n",
      "    - operator: 'count'\n",
      "  [1]:\n",
      "    ['avg', ['(', 'T2.MM', ')']]\n",
      "    - operand: ['(', 'T2.MM', ')']\n",
      "    - operator: 'avg'\n",
      "  [2]:\n",
      "    ['max', ['(', 'T1.SS', ')']]\n",
      "    - operand: ['(', 'T1.SS', ')']\n",
      "    - operator: 'max'\n",
      "- sketch_predicates: [['TABLE1.ID', '=', 'TABLE2.ID'], 'and', ['TABLE1.WAGE', '=', 4000]]\n",
      "  [0]:\n",
      "    ['TABLE1.ID', '=', 'TABLE2.ID']\n",
      "    - col1: 'TABLE1.ID'\n",
      "    - col2: 'TABLE2.ID'\n",
      "    - equijoin: ['TABLE1.ID', '=', 'TABLE2.ID']\n",
      "      - col1: 'TABLE1.ID'\n",
      "      - col2: 'TABLE2.ID'\n",
      "  [1]:\n",
      "    and\n",
      "  [2]:\n",
      "    ['TABLE1.WAGE', '=', 4000]\n",
      "    - col1: 'TABLE1.WAGE'\n",
      "    - equalitypredicate: ['TABLE1.WAGE', '=', 4000]\n",
      "      - col1: 'TABLE1.WAGE'\n",
      "      - val: 4000\n",
      "    - val: 4000\n",
      "- tables: [['TABLE1', 'as', 'T12'], ['TABLE2', 'as', 'T2']]\n",
      "  [0]:\n",
      "    ['TABLE1', 'as', 'T12']\n",
      "    - alias: 'T12'\n",
      "    - table: 'TABLE1'\n",
      "  [1]:\n",
      "    ['TABLE2', 'as', 'T2']\n",
      "    - alias: 'T2'\n",
      "    - table: 'TABLE2'\n",
      "\n",
      "True\n",
      "\n",
      "\n",
      "[('select COUNT(*), avg (T2.mm), max(T1.ss) FROM table1 as T12,table2 AS T2 where table1.id = table2.id AND table1.wage = 4000', (['select', (['count', (['(*)'], {})], {'operator': ['count'], 'operand': [(['(*)'], {})]}), (['avg', (['(', 'T2.MM', ')'], {})], {'operator': ['avg'], 'operand': [(['(', 'T2.MM', ')'], {})]}), (['max', (['(', 'T1.SS', ')'], {})], {'operator': ['max'], 'operand': [(['(', 'T1.SS', ')'], {})]}), 'from', ([(['TABLE1', 'as', 'T12'], {'table': ['TABLE1'], 'alias': ['T12']}), (['TABLE2', 'as', 'T2'], {'table': ['TABLE2'], 'alias': ['T2']})], {}), 'where', ([(['TABLE1.ID', '=', 'TABLE2.ID'], {'col1': ['TABLE1.ID'], 'col2': ['TABLE2.ID'], 'equijoin': [(['TABLE1.ID', '=', 'TABLE2.ID'], {'col1': ['TABLE1.ID'], 'col2': ['TABLE2.ID']})]}), 'and', (['TABLE1.WAGE', '=', 4000], {'col1': ['TABLE1.WAGE'], 'val': [4000], 'equalitypredicate': [(['TABLE1.WAGE', '=', 4000], {'col1': ['TABLE1.WAGE'], 'val': [4000]})]})], {})], {'aggregates': [([(['count', (['(*)'], {})], {'operator': ['count'], 'operand': [(['(*)'], {})]}), (['avg', (['(', 'T2.MM', ')'], {})], {'operator': ['avg'], 'operand': [(['(', 'T2.MM', ')'], {})]}), (['max', (['(', 'T1.SS', ')'], {})], {'operator': ['max'], 'operand': [(['(', 'T1.SS', ')'], {})]})], {})], 'tables': [([(['TABLE1', 'as', 'T12'], {'table': ['TABLE1'], 'alias': ['T12']}), (['TABLE2', 'as', 'T2'], {'table': ['TABLE2'], 'alias': ['T2']})], {})], 'sketch_predicates': [([(['TABLE1.ID', '=', 'TABLE2.ID'], {'col1': ['TABLE1.ID'], 'col2': ['TABLE2.ID'], 'equijoin': [(['TABLE1.ID', '=', 'TABLE2.ID'], {'col1': ['TABLE1.ID'], 'col2': ['TABLE2.ID']})]}), 'and', (['TABLE1.WAGE', '=', 4000], {'col1': ['TABLE1.WAGE'], 'val': [4000], 'equalitypredicate': [(['TABLE1.WAGE', '=', 4000], {'col1': ['TABLE1.WAGE'], 'val': [4000]})]})], {})]}))]\n",
      "\n",
      "\n"
     ]
    }
   ],
   "source": [
    "for x in simpleSQL.runTests(\"select COUNT(*), avg (T2.mm), max(T1.ss) FROM table1 as T12,table2 AS T2 where table1.id = table2.id AND table1.wage = 4000\"):\n",
    "    print(x)\n",
    "    print('\\n')"
   ]
  },
  {
   "cell_type": "code",
   "execution_count": 14,
   "metadata": {
    "scrolled": false
   },
   "outputs": [
    {
     "data": {
      "text/plain": [
       "(['select', (['count', (['(*)'], {})], {'operator': ['count'], 'operand': [(['(*)'], {})]}), (['avg', (['(', 'T2.MM', ')'], {})], {'operator': ['avg'], 'operand': [(['(', 'T2.MM', ')'], {})]}), (['max', (['(', 'T1.SS', ')'], {})], {'operator': ['max'], 'operand': [(['(', 'T1.SS', ')'], {})]}), 'from', ([(['TABLE1', 'as', 'T12'], {'table': ['TABLE1'], 'alias': ['T12']}), (['TABLE2'], {'table': ['TABLE2']})], {}), 'where', ([(['TABLE1.ID', '=', 'TABLE2.ID'], {'col1': ['TABLE1.ID'], 'col2': ['TABLE2.ID'], 'equijoin': [(['TABLE1.ID', '=', 'TABLE2.ID'], {'col1': ['TABLE1.ID'], 'col2': ['TABLE2.ID']})]}), 'and', (['TABLE1.WAGE', '=', 4000], {'col1': ['TABLE1.WAGE'], 'val': [4000], 'equalitypredicate': [(['TABLE1.WAGE', '=', 4000], {'col1': ['TABLE1.WAGE'], 'val': [4000]})]})], {})], {'aggregates': [([(['count', (['(*)'], {})], {'operator': ['count'], 'operand': [(['(*)'], {})]}), (['avg', (['(', 'T2.MM', ')'], {})], {'operator': ['avg'], 'operand': [(['(', 'T2.MM', ')'], {})]}), (['max', (['(', 'T1.SS', ')'], {})], {'operator': ['max'], 'operand': [(['(', 'T1.SS', ')'], {})]})], {})], 'tables': [([(['TABLE1', 'as', 'T12'], {'table': ['TABLE1'], 'alias': ['T12']}), (['TABLE2'], {'table': ['TABLE2']})], {})], 'sketch_predicates': [([(['TABLE1.ID', '=', 'TABLE2.ID'], {'col1': ['TABLE1.ID'], 'col2': ['TABLE2.ID'], 'equijoin': [(['TABLE1.ID', '=', 'TABLE2.ID'], {'col1': ['TABLE1.ID'], 'col2': ['TABLE2.ID']})]}), 'and', (['TABLE1.WAGE', '=', 4000], {'col1': ['TABLE1.WAGE'], 'val': [4000], 'equalitypredicate': [(['TABLE1.WAGE', '=', 4000], {'col1': ['TABLE1.WAGE'], 'val': [4000]})]})], {})]})"
      ]
     },
     "execution_count": 14,
     "metadata": {},
     "output_type": "execute_result"
    }
   ],
   "source": [
    "simpleSQL.parseString(\"select COUNT(*), avg (T2.mm), max(T1.ss) FROM table1 as T12,table2 where table1.id = table2.id AND table1.wage = 4000\")"
   ]
  },
  {
   "cell_type": "code",
   "execution_count": 27,
   "metadata": {},
   "outputs": [
    {
     "name": "stdout",
     "output_type": "stream",
     "text": [
      "('aggregates', ([(['count', (['(*)'], {})], {'operator': ['count'], 'operand': [(['(*)'], {})]}), (['avg', (['(', 'T2.MM', ')'], {})], {'operator': ['avg'], 'operand': [(['(', 'T2.MM', ')'], {})]}), (['max', (['(', 'T1.SS', ')'], {})], {'operator': ['max'], 'operand': [(['(', 'T1.SS', ')'], {})]})], {}))\n",
      "\n",
      "\n",
      "('tables', ([(['TABLE1', 'as', 'T12'], {'table': ['TABLE1'], 'alias': ['T12']}), (['TABLE2'], {'table': ['TABLE2']})], {}))\n",
      "\n",
      "\n",
      "('sketch_predicates', ([(['TABLE1.ID', '=', 'TABLE2.ID'], {'col1': ['TABLE1.ID'], 'col2': ['TABLE2.ID'], 'equijoin': [(['TABLE1.ID', '=', 'TABLE2.ID'], {'col1': ['TABLE1.ID'], 'col2': ['TABLE2.ID']})]}), 'and', (['TABLE1.WAGE', '=', 4000], {'col1': ['TABLE1.WAGE'], 'val': [4000], 'equalitypredicate': [(['TABLE1.WAGE', '=', 4000], {'col1': ['TABLE1.WAGE'], 'val': [4000]})]})], {}))\n",
      "\n",
      "\n",
      "{'operator': 'count', 'operand': (['(*)'], {})}\n",
      "{'operator': 'avg', 'operand': (['(', 'T2.MM', ')'], {})}\n",
      "{'operator': 'max', 'operand': (['(', 'T1.SS', ')'], {})}\n",
      "{'table': 'TABLE1', 'alias': 'T12'}\n",
      "{'table': 'TABLE2'}\n",
      "{'col1': 'TABLE1.ID', 'col2': 'TABLE2.ID', 'equijoin': (['TABLE1.ID', '=', 'TABLE2.ID'], {'col1': ['TABLE1.ID'], 'col2': ['TABLE2.ID']})}\n",
      "{'col1': 'TABLE1.WAGE', 'val': 4000, 'equalitypredicate': (['TABLE1.WAGE', '=', 4000], {'col1': ['TABLE1.WAGE'], 'val': [4000]})}\n"
     ]
    }
   ],
   "source": [
    "ParseResults = simpleSQL.parseString(\"select COUNT(*), avg (T2.mm), max(T1.ss) FROM table1 as T12,table2 where table1.id = table2.id AND table1.wage = 4000\",parseAll=True)\n",
    "for x in ParseResults.items():\n",
    "    print(x)\n",
    "    print('\\n')\n",
    "for agg in ParseResults['aggregates']:\n",
    "    print(dict(agg))\n",
    "for table in ParseResults['tables']:\n",
    "    print(dict(table))\n",
    "for predicate in ParseResults['sketch_predicates']:\n",
    "    if type(predicate) == str:\n",
    "        pass\n",
    "    else:\n",
    "        print(dict(predicate))\n"
   ]
  },
  {
   "cell_type": "code",
   "execution_count": 36,
   "metadata": {},
   "outputs": [
    {
     "name": "stdout",
     "output_type": "stream",
     "text": [
      "('aggregates', ([(['count', (['(*)'], {})], {'operator': ['count'], 'operand': [(['(*)'], {})]}), (['avg', (['(', 'T2.MM', ')'], {})], {'operator': ['avg'], 'operand': [(['(', 'T2.MM', ')'], {})]}), (['max', (['(', 'T1.SS', ')'], {})], {'operator': ['max'], 'operand': [(['(', 'T1.SS', ')'], {})]})], {}))\n",
      "('tables', ([(['TABLE1', 'as', 'T12'], {'table': ['TABLE1'], 'alias': ['T12']}), (['TABLE2'], {'table': ['TABLE2']})], {}))\n",
      "('sketch_predicates', ([(['TABLE1.ID', '=', 'TABLE2.ID'], {'col1': ['TABLE1.ID'], 'col2': ['TABLE2.ID'], 'equijoin': [(['TABLE1.ID', '=', 'TABLE2.ID'], {'col1': ['TABLE1.ID'], 'col2': ['TABLE2.ID']})]}), 'and', (['TABLE1.WAGE', '=', 4000], {'col1': ['TABLE1.WAGE'], 'val': [4000], 'equalitypredicate': [(['TABLE1.WAGE', '=', 4000], {'col1': ['TABLE1.WAGE'], 'val': [4000]})]})], {}))\n",
      "\n",
      "\n",
      "{'operator': 'count', 'operand': (['(*)'], {})}\n",
      "{'operator': 'avg', 'operand': (['(', 'T2.MM', ')'], {})}\n",
      "{'operator': 'max', 'operand': (['(', 'T1.SS', ')'], {})}\n",
      "{'table': 'TABLE1', 'alias': 'T12'}\n",
      "{'table': 'TABLE2'}\n",
      "{'col1': 'TABLE1.ID', 'col2': 'TABLE2.ID', 'equijoin': (['TABLE1.ID', '=', 'TABLE2.ID'], {'col1': ['TABLE1.ID'], 'col2': ['TABLE2.ID']})}\n",
      "{'col1': 'TABLE1.WAGE', 'val': 4000, 'equalitypredicate': (['TABLE1.WAGE', '=', 4000], {'col1': ['TABLE1.WAGE'], 'val': [4000]})}\n"
     ]
    }
   ],
   "source": [
    "import networkx as nx\n",
    "\n",
    "def CreateJoinGraph(queryString):\n",
    "    ParseResults = simpleSQL.parseString(queryString,parseAll=True)\n",
    "    print('\\n')\n",
    "    \n",
    "    if \"columns\" in ParseResults:\n",
    "        assert(0) # cannot return result using AQP\n",
    "        \n",
    "    aggregate_list = []\n",
    "    table_dict = {}\n",
    "    equi_joins_set = set([])\n",
    "    predicates_set = set([])\n",
    "    \n",
    "    for aggregate in ParseResults['aggregates']:\n",
    "        aggregate_list.append(aggregate)\n",
    "        \n",
    "    for table in ParseResults['tables']:\n",
    "        if 'alias' in table:\n",
    "            name = table['alias']\n",
    "        else:\n",
    "            name = table['table']\n",
    "        if name in table_dict:\n",
    "            assert(0) # cannot have duplicate names for tables\n",
    "        else:\n",
    "            table_dict[name] = table['table']\n",
    "            \n",
    "    for predicate in ParseResults['sketch_predicates']:\n",
    "        if predicate == 'and':\n",
    "            pass\n",
    "        elif type(predicate) == pyparsing.ParseResults:\n",
    "            if 'equijoin' in predicate:\n",
    "                alias,column = predicate['col1'].split('.') # throws error if malformed column\n",
    "                alias2,column2 = predicate['col2'].split('.')\n",
    "                \n",
    "                equi_joins_set.add(predicate['col1'],predicate['col2'])\n",
    "            print(dict(predicate))\n",
    "        else:\n",
    "            assert(0) # unexpected value in sketch_predicates\n",
    "    \n",
    "    G = nx.Graph()\n",
    "    for ident, table_name in table_dict.items():\n",
    "        G.add_node(ident, table_name = table_name)\n",
    "    for \n",
    "    G.add_node('a')\n",
    "    \n",
    "CreateJoinGraph(\"select COUNT(*), avg (T2.mm), max(T1.ss) FROM table1 as T12,table2 where table1.id = table2.id AND table1.wage = 4000\")"
   ]
  },
  {
   "cell_type": "code",
   "execution_count": 38,
   "metadata": {},
   "outputs": [
    {
     "data": {
      "text/plain": [
       "pyparsing.ParseResults"
      ]
     },
     "execution_count": 38,
     "metadata": {},
     "output_type": "execute_result"
    }
   ],
   "source": [
    "type(predicate)"
   ]
  },
  {
   "cell_type": "code",
   "execution_count": null,
   "metadata": {},
   "outputs": [],
   "source": []
  }
 ],
 "metadata": {
  "kernelspec": {
   "display_name": "Python 3",
   "language": "python",
   "name": "python3"
  },
  "language_info": {
   "codemirror_mode": {
    "name": "ipython",
    "version": 3
   },
   "file_extension": ".py",
   "mimetype": "text/x-python",
   "name": "python",
   "nbconvert_exporter": "python",
   "pygments_lexer": "ipython3",
   "version": "3.6.7"
  }
 },
 "nbformat": 4,
 "nbformat_minor": 2
}
