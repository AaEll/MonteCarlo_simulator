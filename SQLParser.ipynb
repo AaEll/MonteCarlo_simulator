{
 "cells": [
  {
   "cell_type": "code",
   "execution_count": 25,
   "metadata": {},
   "outputs": [
    {
     "name": "stdout",
     "output_type": "stream",
     "text": [
      "3.44 µs ± 552 ns per loop (mean ± std. dev. of 7 runs, 100000 loops each)\n",
      "The slowest run took 14.95 times longer than the fastest. This could mean that an intermediate result is being cached.\n",
      "2.78 µs ± 4.14 µs per loop (mean ± std. dev. of 7 runs, 1 loop each)\n"
     ]
    }
   ],
   "source": [
    "\n",
    "import numpy as np\n",
    "from numba import jit\n",
    "\n",
    "def randint_numpy(n):\n",
    "    return np.random.randint(0, 10000, n)\n",
    "\n",
    "@jit\n",
    "def randint_numpy_jit(n):\n",
    "    return np.random.randint(0, 10000, n)\n",
    "\n",
    "%timeit randint_numpy(5)\n",
    "%timeit randint_numpy_jit(5)\n"
   ]
  },
  {
   "cell_type": "code",
   "execution_count": 1,
   "metadata": {},
   "outputs": [],
   "source": [
    "from pandas import DataFrame\n",
    "sql = \"\"\"\n",
    "    SELECT COUNT(*)\n",
    "    FROM table1 as T11,\n",
    "         table1 as T12,\n",
    "         table2,\n",
    "         table3\n",
    "    WHERE T12.id = table2.id AND T12.name = T11.name AND T11.id = table3.id\n",
    "                      AND T12.wage = 32000 \"\"\"\n",
    "\n",
    "names =['TABLE1', 'TABLE2', 'TABLE3']\n",
    "df1 = DataFrame([[1,'jill',32000],\n",
    "                   [2,'mariana',100000],\n",
    "                   [3,'erica',32000],\n",
    "                   [4,'sneha',32000],\n",
    "                   [5,'hansle',32000]],columns = ['ID','NAME','WAGE'])\n",
    "\n",
    "\n",
    "df2 = DataFrame([[1,'jill','boxing'],\n",
    "                   [2,'mariana','bad movies'],\n",
    "                   [2,'mariana','pasta'],                    \n",
    "                   [3,'erica','boxing'],\n",
    "                   [4,'sneha','body building'],\n",
    "                   [5,'hansle','swimming']], columns = ['ID','NAME','INTERESTS'])\n",
    "\n",
    "df3 = DataFrame([[1,'jill',25],\n",
    "                   [2,'mariana',41],\n",
    "                   [3,'erica',24],\n",
    "                   [4,'sneha',31],\n",
    "                   [5,'hansle',25]], columns = ['ID','NAME','AGE'])\n",
    "\n",
    "\n",
    "G = CreateJoinGraph(sql)\n",
    "\n",
    "Cursor = dataFrameCursor([df1,df2,df3],names)\n",
    "\n",
    "\n",
    "_ = 2\n",
    "num_replicas = 100000\n",
    "average_signatures(lookup_signatures(G,create_power_set_signatures(G,Cursor,_,num_replicas)),num_replicas)\n",
    "\n",
    "\n",
    "\n"
   ]
  },
  {
   "cell_type": "code",
   "execution_count": null,
   "metadata": {
    "scrolled": true
   },
   "outputs": [],
   "source": []
  },
  {
   "cell_type": "code",
   "execution_count": 7,
   "metadata": {},
   "outputs": [],
   "source": [
    "import importlib\n",
    "resources = importlib.import_module(\"resources\")\n",
    "from resources.sql_parser import CreateJoinGraph,drawGraph\n",
    "from resources.databaseCursors import dataFrameCursor\n",
    "from resources.signatures import create_signatures,create_hashs,\\\n",
    "                create_power_set_signatures, lookup_signatures,average_signatures\n",
    "\n"
   ]
  },
  {
   "cell_type": "code",
   "execution_count": 8,
   "metadata": {},
   "outputs": [
    {
     "name": "stderr",
     "output_type": "stream",
     "text": [
      "/Users/aaell/anaconda3/lib/python3.7/site-packages/networkx/drawing/nx_pylab.py:611: MatplotlibDeprecationWarning: isinstance(..., numbers.Number)\n",
      "  if cb.is_numlike(alpha):\n"
     ]
    },
    {
     "data": {
      "image/png": "[encoded data removed]",
      "text/plain": [
       "<Figure size 432x288 with 1 Axes>"
      ]
     },
     "metadata": {},
     "output_type": "display_data"
    }
   ],
   "source": [
    "sql_0 = \"\"\"SELECT COUNT(*)\n",
    "FROM customer, orders, lineitem\n",
    "WHERE customer.custkey = orders.custkey\n",
    "      AND lineitem.orderkey = orders.orderkey\"\"\"\n",
    "\n",
    "\n",
    "\"\"\" lineitem head\n",
    "1|1551894|76910|1|17|33078.94|0.04|0.02|N|O|1996-03-13|1996-02-12|1996-03-22|DELIVER IN PERSON|TRUCK|egular courts above the|\n",
    "1|673091|73092|2|36|38306.16|0.09|0.06|N|O|1996-04-12|1996-02-28|1996-04-20|TAKE BACK RETURN|MAIL|ly final dependencies: slyly bold |\n",
    "1|636998|36999|3|8|15479.68|0.10|0.02|N|O|1996-01-29|1996-03-05|1996-01-31|TAKE BACK RETURN|REG AIR|riously. regular, express dep|\n",
    "1|21315|46316|4|28|34616.68|0.09|0.06|N|O|1996-04-21|1996-03-30|1996-05-16|NONE|AIR|lites. fluffily even de|\n",
    "1|240267|15274|5|24|28974.00|0.10|0.04|N|O|1996-03-30|1996-03-14|1996-04-01|NONE|FOB| pending foxes. slyly re|\n",
    "1|156345|6348|6|32|44842.88|0.07|0.02|N|O|1996-01-30|1996-02-07|1996-02-03|DELIVER IN PERSON|MAIL|arefully slyly ex|\n",
    "2|1061698|11719|1|38|63066.32|0.00|0.05|N|O|1997-01-28|1997-01-14|1997-02-02|TAKE BACK RETURN|RAIL|ven requests. deposits breach a|\n",
    "3|42970|17971|1|45|86083.65|0.06|0.00|R|F|1994-02-02|1994-01-04|1994-02-23|NONE|AIR|ongside of the furiously brave acco|\n",
    "\"\"\"\n",
    "G = CreateJoinGraph(sql_0)\n",
    "drawGraph(G)"
   ]
  },
  {
   "cell_type": "code",
   "execution_count": 4,
   "metadata": {},
   "outputs": [
    {
     "data": {
      "text/plain": [
       "4.0612"
      ]
     },
     "execution_count": 4,
     "metadata": {},
     "output_type": "execute_result"
    }
   ],
   "source": []
  },
  {
   "cell_type": "code",
   "execution_count": 9,
   "metadata": {},
   "outputs": [
    {
     "data": {
      "text/plain": [
       "4.4694"
      ]
     },
     "execution_count": 9,
     "metadata": {},
     "output_type": "execute_result"
    }
   ],
   "source": []
  },
  {
   "cell_type": "code",
   "execution_count": 18,
   "metadata": {},
   "outputs": [],
   "source": []
  },
  {
   "cell_type": "code",
   "execution_count": 41,
   "metadata": {},
   "outputs": [
    {
     "name": "stdout",
     "output_type": "stream",
     "text": [
      "('T12', {0: {'predicate': {'T12': 'WAGE', '__val__': '32000'}}})\n"
     ]
    }
   ],
   "source": []
  },
  {
   "cell_type": "code",
   "execution_count": null,
   "metadata": {},
   "outputs": [],
   "source": []
  }
 ],
 "metadata": {
  "kernelspec": {
   "display_name": "Python 3",
   "language": "python",
   "name": "python3"
  },
  "language_info": {
   "codemirror_mode": {
    "name": "ipython",
    "version": 3
   },
   "file_extension": ".py",
   "mimetype": "text/x-python",
   "name": "python",
   "nbconvert_exporter": "python",
   "pygments_lexer": "ipython3",
   "version": "3.7.1"
  }
 },
 "nbformat": 4,
 "nbformat_minor": 2
}
