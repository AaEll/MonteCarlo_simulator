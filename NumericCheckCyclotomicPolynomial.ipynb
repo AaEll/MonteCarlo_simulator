{
 "cells": [
  {
   "cell_type": "code",
   "execution_count": 1,
   "metadata": {},
   "outputs": [],
   "source": [
    "import numpy as np\n",
    "import sympy\n",
    "\n",
    "def Elliot(p,q,X):\n",
    "    mysum = 0\n",
    "    for i in range(q):\n",
    "        for j in range(1,(i*p)//q +1):\n",
    "            mysum += X**(p*i-q*j)\n",
    "    mysum *= (X-1)\n",
    "    return (mysum+1)\n",
    "\n",
    "def Lenestra (p,q,X):\n",
    "    lam = p**(q-2)%q\n",
    "    mu = q**(p-2)%p\n",
    "    mysum = 0\n",
    "    for i in range(lam):\n",
    "        for j in range(mu):\n",
    "            mysum += X**(p*i+q*j)\n",
    "            \n",
    "    for i in range(lam,q):\n",
    "        for j in range(mu,p):\n",
    "            mysum -= X**(p*i+q*j - p*q)\n",
    "    return mysum\n",
    "\n",
    "def LamLung (p,q,X):\n",
    "    for r in range(1,p):\n",
    "        for \n",
    "    \n",
    "    lam = p**(q-2)%q\n",
    "    mu = q**(p-2)%p\n",
    "    mysum = 0\n",
    "    for i in range(lam):\n",
    "        for j in range(mu):\n",
    "            mysum += X**(p*i+q*j)\n",
    "            \n",
    "    for i in range(lam,q):\n",
    "        for j in range(mu,p):\n",
    "            mysum -= X**(p*i+q*j - p*q)\n",
    "    return mysum\n",
    "\n",
    "CheckExpressionForPhi_pq = lambda func, X,p,q: func(p,q,X)*(X**p-1)*(X**q-1) == (X**(p*q)-1)*(X-1)"
   ]
  },
  {
   "cell_type": "code",
   "execution_count": null,
   "metadata": {},
   "outputs": [],
   "source": [
    "\n",
    "for p in range(1000):\n",
    "    if (sympy.isprime(p)):\n",
    "        for q in range(1000):\n",
    "            if (sympy.isprime(q)) and p!=q:\n",
    "                for X in range(2,1000):\n",
    "                    if not CheckExpressionForPhi_pq(Elliot,X,p,q):\n",
    "                        print((p,q,X))\n",
    "                        print(\"Elliot Failed!\")\n",
    "                    if not CheckExpressionForPhi_pq(LamLung,X,p,q):\n",
    "                        print((p,q,X))\n",
    "                        print(\"LamLung Failed!\")\n"
   ]
  },
  {
   "cell_type": "code",
   "execution_count": 4,
   "metadata": {},
   "outputs": [
    {
     "data": {
      "text/plain": [
       "2"
      ]
     },
     "execution_count": 4,
     "metadata": {},
     "output_type": "execute_result"
    }
   ],
   "source": []
  },
  {
   "cell_type": "code",
   "execution_count": null,
   "metadata": {},
   "outputs": [],
   "source": []
  }
 ],
 "metadata": {
  "kernelspec": {
   "display_name": "Python 3",
   "language": "python",
   "name": "python3"
  },
  "language_info": {
   "codemirror_mode": {
    "name": "ipython",
    "version": 3
   },
   "file_extension": ".py",
   "mimetype": "text/x-python",
   "name": "python",
   "nbconvert_exporter": "python",
   "pygments_lexer": "ipython3",
   "version": "3.6.7"
  }
 },
 "nbformat": 4,
 "nbformat_minor": 2
}
