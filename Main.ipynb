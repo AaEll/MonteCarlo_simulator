{
 "cells": [
  {
   "cell_type": "code",
   "execution_count": 5,
   "metadata": {},
   "outputs": [
    {
     "name": "stdout",
     "output_type": "stream",
     "text": [
      "testing random variable with distribution power law, alpha = -3, for x > 1,\n",
      " 1.0777994721052366\n",
      "\n",
      "New simulator for Live-Graph,\n",
      " with power law, alpha = -3, for x > 1 input\n",
      "confidence for space complexity\n",
      "We obtained a 0.99% confidence interval of\n",
      "1.0032737929770559 +- (6.391295504392027e-14+1043.7777665922772j)\n",
      "confidence for time complexity\n",
      "We obtained a 0.99% confidence interval of\n",
      "1.0032851500620643 +- (6.3913678541815e-14+1043.7895822095675j)\n"
     ]
    }
   ],
   "source": [
    "import importlib\n",
    "resources = importlib.import_module(\"resources\")\n",
    "import resources.MonteCarlo as MC\n",
    "\n",
    "import numpy as np\n",
    "import pandas as pd\n",
    "import math\n",
    "from functools import reduce\n",
    "import random\n",
    "random.seed(2010)\n",
    "\n",
    "def cost_powers_k(rv, k = 2):\n",
    "    if k == 2:\n",
    "        cutoff = 1<<(int(rv)).bit_length()\n",
    "    else:\n",
    "        cutoff = k**(math.ceil(math.log(rv, k)))\n",
    "    space_cost = cutoff-rv\n",
    "    time_cost = (cutoff - 1)/(k-1)\n",
    "    return (space_cost,time_cost)\n",
    "\n",
    "def sum_pair_costs(sim, n,verbose = True):\n",
    "    sum1,sq_sum1,sum2,sq_sum2 = reduce(lambda x,y : (x[0]+y[0], x[0]+y[0]**2,\\\n",
    "                                                     x[1]+y[1], x[1]+y[1]**2),\\\n",
    "                                        sim.sample_repeated(n),(0,0,0,0))\n",
    "    if verbose:\n",
    "        print(\"confidence for space complexity\")\n",
    "        MC.Calculate_ConfIntv(sum1,sq_sum1,n,.99)\n",
    "        print(\"confidence for time complexity\")\n",
    "        MC.Calculate_ConfIntv(sum2,sq_sum2,n,.99)\n",
    "    return (sum1, sq_sum1, sum2, sq_sum2)\n",
    "    \n",
    "alpha = -3\n",
    "\n",
    "inv_f = lambda x : MC.inverse_continuous_power_law(x,1,alpha)\n",
    "X = MC.RandomVariable(inv_f,\"power law, alpha = {alph}, for x > 1\".format(alph = alpha))\n",
    "Sim = MC.Simulator(X,cost_powers_k,'Live-Graph')\n",
    "n = 200000\n",
    "\n",
    "sum_pair_costs(Sim,n)\n"
   ]
  },
  {
   "cell_type": "code",
   "execution_count": 6,
   "metadata": {
    "scrolled": false
   },
   "outputs": [
    {
     "name": "stdout",
     "output_type": "stream",
     "text": [
      "\n",
      " i = 2.0 \n",
      "\n",
      "confidence for space complexity\n",
      "We obtained a 0.99% confidence interval of\n",
      "1.0031973910103344 +- (2.0209557190559625e-13+3300.4711570111976j)\n",
      "confidence for time complexity\n",
      "We obtained a 0.99% confidence interval of\n",
      "1.0031974573073303 +- (2.0209558526122055e-13+3300.471375125095j)\n"
     ]
    }
   ],
   "source": [
    "n = 2000000\n",
    "\n",
    "    j = 10\n",
    "    i = 2.1-j/100\n",
    "    inv_f = lambda x : MC.inverse_continuous_power_law(x,1,-3)\n",
    "    cost_f = lambda x : cost_powers_k(x,i)\n",
    "    print (\"\\n i = {} \\n\".format(i))\n",
    "    X = MC.RandomVariable(inv_f,\"power law, alpha = -2, for x > 1\",verbose = False)\n",
    "    Sim = MC.Simulator(X,cost_f,'Live-Graph', verbose = False)\n",
    "    sum_pair_costs(Sim,n, verbose = False)\n"
   ]
  },
  {
   "cell_type": "code",
   "execution_count": 19,
   "metadata": {},
   "outputs": [
    {
     "name": "stdout",
     "output_type": "stream",
     "text": [
      "[1, -0.5886211907610405, 0.6216920639901612, -0.4107450841611377, 0.40544312290349055, -0.2888583635120118, 0.2715504250230183, -0.20341401209305082, 0.18465506359352585, -0.1430791689687923, 0.12669173223907212, -0.10045438149476393]\n"
     ]
    }
   ],
   "source": [
    "\n",
    "import numpy as np\n",
    "import matplotlib.pyplot as plt\n",
    "from scipy.optimize import fsolve\n",
    "%matplotlib inline\n",
    "\n",
    "# Define the expression whose roots we want to find\n",
    "\n",
    "alpha = -3\n",
    "beta = .2\n",
    "\n",
    "recurance_relationship = lambda p1,p2 : lambda p3: beta*p3**(alpha+1)/(alpha+1)-p3*p2**(alpha)  -\\\n",
    "                            (1-beta)*p2**(alpha+1)-p1**(alpha+1)/(alpha+1) + beta*(p1*p2**(alpha))\n",
    "initial_condition = lambda p1: lambda p2: beta*p2**(alpha+1)/(alpha+1) - p2*p1**(alpha) - (1-beta)*p1**(alpha+1)-1.0/(alpha+1)\n",
    "\n",
    "\n",
    "p1 = 1\n",
    "func = initial_condition(p1)\n",
    "initial_guess = 1.0/beta\n",
    "p2 = fsolve(func, initial_guess)[0]\n",
    "cutoffList = [p1,p2]\n",
    "\n",
    "for i in range(10):\n",
    "    func = recurance_relationship(p1,p2)\n",
    "    initial_guess = p2/beta\n",
    "    p3 = fsolve(func,initial_guess)[0]\n",
    "    cutoffList.append(p3)\n",
    "    p1 = p2\n",
    "    p2 = p3\n",
    "\n",
    "\n",
    "print (cutoffList)"
   ]
  },
  {
   "cell_type": "code",
   "execution_count": null,
   "metadata": {},
   "outputs": [],
   "source": []
  }
 ],
 "metadata": {
  "kernelspec": {
   "display_name": "Python 3",
   "language": "python",
   "name": "python3"
  },
  "language_info": {
   "codemirror_mode": {
    "name": "ipython",
    "version": 3
   },
   "file_extension": ".py",
   "mimetype": "text/x-python",
   "name": "python",
   "nbconvert_exporter": "python",
   "pygments_lexer": "ipython3",
   "version": "3.6.5"
  }
 },
 "nbformat": 4,
 "nbformat_minor": 2
}
